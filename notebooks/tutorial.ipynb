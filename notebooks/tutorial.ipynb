{
 "cells": [
  {
   "cell_type": "code",
   "execution_count": 2,
   "metadata": {},
   "outputs": [
    {
     "name": "stdout",
     "output_type": "stream",
     "text": [
      "original shape:torch.Size([4, 5])\n",
      "New shape: torch.Size([1, 4, 5])\n"
     ]
    }
   ],
   "source": [
    "# Understanding Unsqueeze function.\n",
    "import torch\n",
    "\n",
    "a = torch.randn(4, 5) \n",
    "print(f\"original shape:{a.shape}\")\n",
    "\n",
    "a_unsqueezed = torch.unsqueeze(a, 0)\n",
    "print(f\"New shape: {a_unsqueezed.shape}\")"
   ]
  },
  {
   "cell_type": "code",
   "execution_count": 3,
   "metadata": {},
   "outputs": [
    {
     "name": "stdout",
     "output_type": "stream",
     "text": [
      "Original shape: torch.Size([3, 2])\n",
      "tensor([[1, 2],\n",
      "        [3, 4],\n",
      "        [5, 6]])\n",
      "tensor([[1, 2, 1, 2, 1, 2],\n",
      "        [3, 4, 3, 4, 3, 4],\n",
      "        [5, 6, 5, 6, 5, 6],\n",
      "        [1, 2, 1, 2, 1, 2],\n",
      "        [3, 4, 3, 4, 3, 4],\n",
      "        [5, 6, 5, 6, 5, 6]])\n"
     ]
    }
   ],
   "source": [
    "# understanding repeat function.\n",
    "b = torch.tensor(([1, 2], [3, 4], [5, 6])) # a tensor of shape [3, 2]\n",
    "print(f\"Original shape: {b.shape}\")\n",
    "print(b)\n",
    "\n",
    "b = b.repeat(2, 3)\n",
    "print(b)\n"
   ]
  },
  {
   "cell_type": "code",
   "execution_count": 4,
   "metadata": {},
   "outputs": [
    {
     "name": "stdout",
     "output_type": "stream",
     "text": [
      "torch.Size([50, 128])\n",
      "torch.Size([50, 128])\n"
     ]
    }
   ],
   "source": [
    "# Understanding repeat function usage for embeddings in DETR.\n",
    "from torch import nn\n",
    "\n",
    "row_embed = nn.Parameter(torch.rand(50, 256 // 2))\n",
    "col_embed = nn.Parameter(torch.rand(50, 256 // 2))\n",
    "\n",
    "\n",
    "print(row_embed.shape)\n",
    "print(col_embed.shape)"
   ]
  },
  {
   "cell_type": "code",
   "execution_count": 7,
   "metadata": {},
   "outputs": [
    {
     "name": "stdout",
     "output_type": "stream",
     "text": [
      "torch.Size([34, 128]) torch.Size([25, 128])\n",
      "torch.Size([25, 34, 128]) torch.Size([25, 34, 128])\n",
      "torch.Size([25, 34, 256])\n"
     ]
    }
   ],
   "source": [
    "h = torch.rand(1, 256, 25, 34)\n",
    "H, W = h.shape[-2:]\n",
    "\n",
    "print(col_embed[:W].shape, row_embed[:H].shape)\n",
    "\n",
    "modified_col_embed = col_embed[:W].unsqueeze(0).repeat(H, 1, 1)\n",
    "modified_row_embed = row_embed[:H].unsqueeze(1).repeat(1, W, 1)\n",
    "\n",
    "print(modified_col_embed.shape, modified_row_embed.shape)\n",
    "\n",
    "pos = torch.cat([modified_col_embed, modified_row_embed], dim=-1)\n",
    "print(pos.shape)"
   ]
  }
 ],
 "metadata": {
  "kernelspec": {
   "display_name": "env_pytorch",
   "language": "python",
   "name": "python3"
  },
  "language_info": {
   "codemirror_mode": {
    "name": "ipython",
    "version": 3
   },
   "file_extension": ".py",
   "mimetype": "text/x-python",
   "name": "python",
   "nbconvert_exporter": "python",
   "pygments_lexer": "ipython3",
   "version": "3.9.18"
  },
  "orig_nbformat": 4
 },
 "nbformat": 4,
 "nbformat_minor": 2
}
